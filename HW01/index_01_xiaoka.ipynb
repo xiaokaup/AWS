{
  "cells": [
    {
      "cell_type": "code",
      "execution_count": 1,
      "id": "5c2d13e8",
      "metadata": {
        "id": "5c2d13e8"
      },
      "outputs": [],
      "source": [
        "tr_path = \"./data/covid.train.csv\"\n",
        "tt_path = \"./data/covid.test.csv\""
      ]
    },
    {
      "cell_type": "code",
      "execution_count": 2,
      "id": "78bcc856",
      "metadata": {
        "id": "78bcc856"
      },
      "outputs": [],
      "source": [
        "# PyTorch\n",
        "import torch\n",
        "import torch.nn as nn\n",
        "from torch.utils.data import Dataset, DataLoader\n",
        "\n",
        "# For data preprocess\n",
        "import numpy as np\n",
        "import csv\n",
        "import os\n",
        "\n",
        "# For plotting\n",
        "import matplotlib.pyplot as plt\n",
        "from matplotlib.pyplot import figure\n",
        "\n",
        "# Sklearn\n",
        "import sklearn\n",
        "from sklearn.feature_selection import SelectKBest, f_regression\n",
        "from sklearn import preprocessing\n",
        "\n",
        "# Pandas\n",
        "import pandas as pd"
      ]
    },
    {
      "cell_type": "code",
      "source": [
        "myseed = 42069"
      ],
      "metadata": {
        "id": "TrsmSaTPym8K"
      },
      "id": "TrsmSaTPym8K",
      "execution_count": null,
      "outputs": []
    }
  ],
  "metadata": {
    "kernelspec": {
      "display_name": ".venv",
      "language": "python",
      "name": "python3"
    },
    "language_info": {
      "codemirror_mode": {
        "name": "ipython",
        "version": 3
      },
      "file_extension": ".py",
      "mimetype": "text/x-python",
      "name": "python",
      "nbconvert_exporter": "python",
      "pygments_lexer": "ipython3",
      "version": "3.12.3"
    },
    "colab": {
      "provenance": []
    }
  },
  "nbformat": 4,
  "nbformat_minor": 5
}